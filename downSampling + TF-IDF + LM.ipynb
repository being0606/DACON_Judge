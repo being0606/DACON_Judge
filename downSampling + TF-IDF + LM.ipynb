{
 "cells": [
  {
   "cell_type": "code",
   "execution_count": null,
   "id": "2a46991c",
   "metadata": {},
   "outputs": [],
   "source": [
    "# pip install optuna\n",
    "# pip install pycaret\n"
   ]
  },
  {
   "cell_type": "code",
   "execution_count": 3,
   "id": "7aebeef3",
   "metadata": {},
   "outputs": [],
   "source": [
    "import pandas as pd\n",
    "import numpy as np"
   ]
  },
  {
   "cell_type": "code",
   "execution_count": 4,
   "id": "dc13fc3c-c1b1-4b77-9ea2-8742c3633345",
   "metadata": {},
   "outputs": [],
   "source": [
    "train = pd.read_csv('./open/train.csv')\n",
    "test = pd.read_csv('./open//test.csv')"
   ]
  },
  {
   "attachments": {},
   "cell_type": "markdown",
   "id": "e6c67ecd",
   "metadata": {},
   "source": [
    "1. target의 분포 : 불균형발견 -> 다운샘플링"
   ]
  },
  {
   "cell_type": "code",
   "execution_count": 5,
   "id": "c1911509",
   "metadata": {},
   "outputs": [
    {
     "name": "stdout",
     "output_type": "stream",
     "text": [
      "1    1649\n",
      "0     829\n",
      "Name: first_party_winner, dtype: int64\n"
     ]
    }
   ],
   "source": [
    "target_distribution = train['first_party_winner'].value_counts()\n",
    "print(target_distribution)\n"
   ]
  },
  {
   "cell_type": "code",
   "execution_count": 6,
   "id": "327393c8",
   "metadata": {},
   "outputs": [
    {
     "name": "stdout",
     "output_type": "stream",
     "text": [
      "다운샘플링 후 클래스 분포:\n",
      "0    829\n",
      "1    829\n",
      "Name: first_party_winner, dtype: int64\n"
     ]
    }
   ],
   "source": [
    "from imblearn.under_sampling import RandomUnderSampler\n",
    "\n",
    "# 다운샘플링 객체 초기화\n",
    "rus = RandomUnderSampler(random_state=42)\n",
    "\n",
    "# 다운샘플링을 수행할 feature와 target 데이터를 준비합니다.\n",
    "X_train = train.drop('first_party_winner', axis=1)\n",
    "y_train = train['first_party_winner']\n",
    "\n",
    "# 다운샘플링 수행\n",
    "X_train_resampled, y_train_resampled = rus.fit_resample(X_train, y_train)\n",
    "\n",
    "# 다운샘플링된 데이터셋 확인\n",
    "print(\"다운샘플링 후 클래스 분포:\")\n",
    "print(pd.Series(y_train_resampled).value_counts())\n",
    "y_train_resampled = pd.DataFrame(y_train_resampled) # serise -> df"
   ]
  },
  {
   "attachments": {},
   "cell_type": "markdown",
   "id": "afc6e00f",
   "metadata": {},
   "source": [
    "# 1. 토큰화"
   ]
  },
  {
   "cell_type": "code",
   "execution_count": null,
   "id": "3fe948ff",
   "metadata": {},
   "outputs": [],
   "source": [
    "import nltk\n",
    "from nltk.tokenize import word_tokenize\n",
    "from nltk.corpus import stopwords\n",
    "from nltk.stem import WordNetLemmatizer\n",
    "import string"
   ]
  },
  {
   "cell_type": "code",
   "execution_count": null,
   "id": "c70d6e5a",
   "metadata": {},
   "outputs": [],
   "source": [
    "nltk.download('punkt')\n",
    "nltk.download('stopwords')\n",
    "nltk.download('wordnet')\n",
    "nltk.download('omw-1.4')"
   ]
  },
  {
   "cell_type": "code",
   "execution_count": 17,
   "id": "118daee1",
   "metadata": {},
   "outputs": [],
   "source": [
    "#-----------토큰화 함수를 정의합니다.-----------\n",
    "def tokenize_text(text):\n",
    "    tokens = word_tokenize(text)  # 단어 단위로 토큰화\n",
    "    return tokens\n",
    "\n",
    "#-----------전처리 함수를 정의합니다.-----------\n",
    "# 토큰화 이후에 적용할 수 있는 전처리 단계는 다음과 같습니다:\n",
    "# 1. 소문자 변환: 단어를 모두 소문자로 변환하여 대소문자의 구분을 없애거나 일관성을 유지할 수 있습니다.\n",
    "# 2. 특수 문자 제거: 문장 부호, 기호, 특수 문자 등을 제거하여 모델에 불필요한 잡음을 줄일 수 있습니다.\n",
    "# 3. 불용어 제거: 자주 등장하지만 의미를 갖지 않는 불용어(stop words)를 제거하여 모델의 성능을 개선할 수 있습니다.\n",
    "# 4. 정규화: 단어들을 원형으로 변환하거나 어간 추출(stemming) 등을 수행하여 단어의 다양한 형태를 통합할 수 있습니다.\n",
    "#-----------------------------------------\n",
    "def preprocess_text(text):\n",
    "    # 소문자 변환 / 특수 문자 제거\n",
    "    text = text.lower() \n",
    "    text = text.translate(str.maketrans(\"\", \"\", string.punctuation))\n",
    "\n",
    "    tokens = tokenize_text(text) # 토큰화\n",
    "\n",
    "    # 불용어 제거\n",
    "    stop_words = set(stopwords.words('english'))\n",
    "    tokens = [token for token in tokens if token not in stop_words]\n",
    "\n",
    "    # 정규화\n",
    "    lemmatizer = WordNetLemmatizer()\n",
    "    tokens = [lemmatizer.lemmatize(token) for token in tokens]\n",
    "\n",
    "    return tokens"
   ]
  },
  {
   "cell_type": "code",
   "execution_count": null,
   "id": "d3816202",
   "metadata": {},
   "outputs": [],
   "source": [
    "# X_train_resampled\n",
    "# y_train_resampled"
   ]
  },
  {
   "cell_type": "code",
   "execution_count": 10,
   "id": "db304fbb",
   "metadata": {},
   "outputs": [],
   "source": [
    "X_train_preprocessed = pd.DataFrame(X_train_resampled)\n",
    "y_train_preprocessed = pd.DataFrame(y_train_resampled)\n",
    "X_test_preprocessed = pd.DataFrame(test)"
   ]
  },
  {
   "cell_type": "code",
   "execution_count": 18,
   "id": "090f58ea",
   "metadata": {},
   "outputs": [],
   "source": [
    "X_train_preprocessed['facts_preprocessed'] = train['facts'].apply(preprocess_text)\n",
    "X_test_preprocessed['facts_preprocessed'] = test['facts'].apply(preprocess_text)"
   ]
  },
  {
   "cell_type": "code",
   "execution_count": 59,
   "id": "11a7bf0b",
   "metadata": {},
   "outputs": [
    {
     "name": "stdout",
     "output_type": "stream",
     "text": [
      "---희소벡터---\n",
      "(1658, 14326)\n",
      "(1240, 14326)\n",
      "\n",
      "---밀접벡터---\n",
      "(1658, 14326)\n",
      "(1240, 14326)\n"
     ]
    }
   ],
   "source": [
    "# 디버그\n",
    "from sklearn.feature_extraction.text import TfidfVectorizer\n",
    "\n",
    "# X_train과 y_train을 이용하여 TF-IDF 벡터화를 수행합니다.\n",
    "vectorizer = TfidfVectorizer(tokenizer=lambda x: preprocess_text(x))\n",
    "X_train_tfidf_matrix = vectorizer.fit_transform(X_train_preprocessed['facts'])\n",
    "X_test_tfidf_matrix = vectorizer.transform(X_test_preprocessed['facts'])\n",
    "\n",
    "# TF-IDF 벡터화된 결과를 확인합니다.\n",
    "# ---희소벡터---\n",
    "print(\"---희소벡터---\")\n",
    "print(X_train_tfidf_matrix.shape)\n",
    "print(X_test_tfidf_matrix.shape)\n",
    "\n",
    "\n",
    "# TF-IDF 벡터화된 결과를 확인합니다.\n",
    "# ---밀접벡터---\n",
    "X_train_dense = X_train_tfidf_matrix.toarray()\n",
    "X_test_dense = X_test_tfidf_matrix.toarray()\n",
    "print(\"\\n---밀접벡터---\")\n",
    "print(X_train_dense.shape)\n",
    "print(X_test_dense.shape)"
   ]
  },
  {
   "attachments": {},
   "cell_type": "markdown",
   "id": "71edc816",
   "metadata": {},
   "source": [
    "# ML모델 추천(파이케럿)"
   ]
  },
  {
   "cell_type": "code",
   "execution_count": 40,
   "id": "8d288b1f",
   "metadata": {},
   "outputs": [
    {
     "data": {
      "text/html": [
       "<style type=\"text/css\">\n",
       "#T_f259c_row8_col1 {\n",
       "  background-color: lightgreen;\n",
       "}\n",
       "</style>\n",
       "<table id=\"T_f259c\">\n",
       "  <thead>\n",
       "    <tr>\n",
       "      <th class=\"blank level0\" >&nbsp;</th>\n",
       "      <th id=\"T_f259c_level0_col0\" class=\"col_heading level0 col0\" >Description</th>\n",
       "      <th id=\"T_f259c_level0_col1\" class=\"col_heading level0 col1\" >Value</th>\n",
       "    </tr>\n",
       "  </thead>\n",
       "  <tbody>\n",
       "    <tr>\n",
       "      <th id=\"T_f259c_level0_row0\" class=\"row_heading level0 row0\" >0</th>\n",
       "      <td id=\"T_f259c_row0_col0\" class=\"data row0 col0\" >Session id</td>\n",
       "      <td id=\"T_f259c_row0_col1\" class=\"data row0 col1\" >8602</td>\n",
       "    </tr>\n",
       "    <tr>\n",
       "      <th id=\"T_f259c_level0_row1\" class=\"row_heading level0 row1\" >1</th>\n",
       "      <td id=\"T_f259c_row1_col0\" class=\"data row1 col0\" >Target</td>\n",
       "      <td id=\"T_f259c_row1_col1\" class=\"data row1 col1\" >target</td>\n",
       "    </tr>\n",
       "    <tr>\n",
       "      <th id=\"T_f259c_level0_row2\" class=\"row_heading level0 row2\" >2</th>\n",
       "      <td id=\"T_f259c_row2_col0\" class=\"data row2 col0\" >Target type</td>\n",
       "      <td id=\"T_f259c_row2_col1\" class=\"data row2 col1\" >Binary</td>\n",
       "    </tr>\n",
       "    <tr>\n",
       "      <th id=\"T_f259c_level0_row3\" class=\"row_heading level0 row3\" >3</th>\n",
       "      <td id=\"T_f259c_row3_col0\" class=\"data row3 col0\" >Original data shape</td>\n",
       "      <td id=\"T_f259c_row3_col1\" class=\"data row3 col1\" >(1658, 14327)</td>\n",
       "    </tr>\n",
       "    <tr>\n",
       "      <th id=\"T_f259c_level0_row4\" class=\"row_heading level0 row4\" >4</th>\n",
       "      <td id=\"T_f259c_row4_col0\" class=\"data row4 col0\" >Transformed data shape</td>\n",
       "      <td id=\"T_f259c_row4_col1\" class=\"data row4 col1\" >(1658, 14327)</td>\n",
       "    </tr>\n",
       "    <tr>\n",
       "      <th id=\"T_f259c_level0_row5\" class=\"row_heading level0 row5\" >5</th>\n",
       "      <td id=\"T_f259c_row5_col0\" class=\"data row5 col0\" >Transformed train set shape</td>\n",
       "      <td id=\"T_f259c_row5_col1\" class=\"data row5 col1\" >(1160, 14327)</td>\n",
       "    </tr>\n",
       "    <tr>\n",
       "      <th id=\"T_f259c_level0_row6\" class=\"row_heading level0 row6\" >6</th>\n",
       "      <td id=\"T_f259c_row6_col0\" class=\"data row6 col0\" >Transformed test set shape</td>\n",
       "      <td id=\"T_f259c_row6_col1\" class=\"data row6 col1\" >(498, 14327)</td>\n",
       "    </tr>\n",
       "    <tr>\n",
       "      <th id=\"T_f259c_level0_row7\" class=\"row_heading level0 row7\" >7</th>\n",
       "      <td id=\"T_f259c_row7_col0\" class=\"data row7 col0\" >Numeric features</td>\n",
       "      <td id=\"T_f259c_row7_col1\" class=\"data row7 col1\" >14326</td>\n",
       "    </tr>\n",
       "    <tr>\n",
       "      <th id=\"T_f259c_level0_row8\" class=\"row_heading level0 row8\" >8</th>\n",
       "      <td id=\"T_f259c_row8_col0\" class=\"data row8 col0\" >Preprocess</td>\n",
       "      <td id=\"T_f259c_row8_col1\" class=\"data row8 col1\" >True</td>\n",
       "    </tr>\n",
       "    <tr>\n",
       "      <th id=\"T_f259c_level0_row9\" class=\"row_heading level0 row9\" >9</th>\n",
       "      <td id=\"T_f259c_row9_col0\" class=\"data row9 col0\" >Imputation type</td>\n",
       "      <td id=\"T_f259c_row9_col1\" class=\"data row9 col1\" >simple</td>\n",
       "    </tr>\n",
       "    <tr>\n",
       "      <th id=\"T_f259c_level0_row10\" class=\"row_heading level0 row10\" >10</th>\n",
       "      <td id=\"T_f259c_row10_col0\" class=\"data row10 col0\" >Numeric imputation</td>\n",
       "      <td id=\"T_f259c_row10_col1\" class=\"data row10 col1\" >mean</td>\n",
       "    </tr>\n",
       "    <tr>\n",
       "      <th id=\"T_f259c_level0_row11\" class=\"row_heading level0 row11\" >11</th>\n",
       "      <td id=\"T_f259c_row11_col0\" class=\"data row11 col0\" >Categorical imputation</td>\n",
       "      <td id=\"T_f259c_row11_col1\" class=\"data row11 col1\" >mode</td>\n",
       "    </tr>\n",
       "    <tr>\n",
       "      <th id=\"T_f259c_level0_row12\" class=\"row_heading level0 row12\" >12</th>\n",
       "      <td id=\"T_f259c_row12_col0\" class=\"data row12 col0\" >Fold Generator</td>\n",
       "      <td id=\"T_f259c_row12_col1\" class=\"data row12 col1\" >StratifiedKFold</td>\n",
       "    </tr>\n",
       "    <tr>\n",
       "      <th id=\"T_f259c_level0_row13\" class=\"row_heading level0 row13\" >13</th>\n",
       "      <td id=\"T_f259c_row13_col0\" class=\"data row13 col0\" >Fold Number</td>\n",
       "      <td id=\"T_f259c_row13_col1\" class=\"data row13 col1\" >10</td>\n",
       "    </tr>\n",
       "    <tr>\n",
       "      <th id=\"T_f259c_level0_row14\" class=\"row_heading level0 row14\" >14</th>\n",
       "      <td id=\"T_f259c_row14_col0\" class=\"data row14 col0\" >CPU Jobs</td>\n",
       "      <td id=\"T_f259c_row14_col1\" class=\"data row14 col1\" >-1</td>\n",
       "    </tr>\n",
       "    <tr>\n",
       "      <th id=\"T_f259c_level0_row15\" class=\"row_heading level0 row15\" >15</th>\n",
       "      <td id=\"T_f259c_row15_col0\" class=\"data row15 col0\" >Use GPU</td>\n",
       "      <td id=\"T_f259c_row15_col1\" class=\"data row15 col1\" >False</td>\n",
       "    </tr>\n",
       "    <tr>\n",
       "      <th id=\"T_f259c_level0_row16\" class=\"row_heading level0 row16\" >16</th>\n",
       "      <td id=\"T_f259c_row16_col0\" class=\"data row16 col0\" >Log Experiment</td>\n",
       "      <td id=\"T_f259c_row16_col1\" class=\"data row16 col1\" >False</td>\n",
       "    </tr>\n",
       "    <tr>\n",
       "      <th id=\"T_f259c_level0_row17\" class=\"row_heading level0 row17\" >17</th>\n",
       "      <td id=\"T_f259c_row17_col0\" class=\"data row17 col0\" >Experiment Name</td>\n",
       "      <td id=\"T_f259c_row17_col1\" class=\"data row17 col1\" >clf-default-name</td>\n",
       "    </tr>\n",
       "    <tr>\n",
       "      <th id=\"T_f259c_level0_row18\" class=\"row_heading level0 row18\" >18</th>\n",
       "      <td id=\"T_f259c_row18_col0\" class=\"data row18 col0\" >USI</td>\n",
       "      <td id=\"T_f259c_row18_col1\" class=\"data row18 col1\" >d2bb</td>\n",
       "    </tr>\n",
       "  </tbody>\n",
       "</table>\n"
      ],
      "text/plain": [
       "<pandas.io.formats.style.Styler at 0x2b45e7a00>"
      ]
     },
     "metadata": {},
     "output_type": "display_data"
    },
    {
     "data": {
      "text/plain": [
       "<pycaret.classification.oop.ClassificationExperiment at 0x280873eb0>"
      ]
     },
     "execution_count": 40,
     "metadata": {},
     "output_type": "execute_result"
    }
   ],
   "source": [
    "from pycaret.classification import *\n",
    "\n",
    "# 벡터화된 데이터를 X와 y로 나누어 준비합니다.\n",
    "X = X_train_dense  # TF-IDF 벡터화된 데이터\n",
    "y = y_train_preprocessed['first_party_winner'].values  # 타겟 변수\n",
    "\n",
    "# 파이캐럿을 설정합니다.\n",
    "setup(data=X, target=y)"
   ]
  },
  {
   "attachments": {},
   "cell_type": "markdown",
   "id": "e6007364",
   "metadata": {},
   "source": [
    "# cross validation (top-1)"
   ]
  },
  {
   "cell_type": "code",
   "execution_count": 41,
   "id": "b2364be9",
   "metadata": {},
   "outputs": [
    {
     "data": {
      "text/html": [],
      "text/plain": [
       "<IPython.core.display.HTML object>"
      ]
     },
     "metadata": {},
     "output_type": "display_data"
    },
    {
     "data": {
      "text/html": [
       "<style type=\"text/css\">\n",
       "#T_a025d th {\n",
       "  text-align: left;\n",
       "}\n",
       "#T_a025d_row0_col0, #T_a025d_row0_col3, #T_a025d_row0_col5, #T_a025d_row1_col0, #T_a025d_row1_col1, #T_a025d_row1_col2, #T_a025d_row1_col4, #T_a025d_row1_col6, #T_a025d_row1_col7, #T_a025d_row2_col0, #T_a025d_row2_col1, #T_a025d_row2_col2, #T_a025d_row2_col3, #T_a025d_row2_col4, #T_a025d_row2_col5, #T_a025d_row2_col6, #T_a025d_row2_col7, #T_a025d_row3_col0, #T_a025d_row3_col1, #T_a025d_row3_col2, #T_a025d_row3_col3, #T_a025d_row3_col4, #T_a025d_row3_col5, #T_a025d_row3_col6, #T_a025d_row3_col7, #T_a025d_row4_col0, #T_a025d_row4_col1, #T_a025d_row4_col2, #T_a025d_row4_col3, #T_a025d_row4_col4, #T_a025d_row4_col5, #T_a025d_row4_col6, #T_a025d_row4_col7, #T_a025d_row5_col0, #T_a025d_row5_col1, #T_a025d_row5_col2, #T_a025d_row5_col3, #T_a025d_row5_col4, #T_a025d_row5_col5, #T_a025d_row5_col6, #T_a025d_row5_col7, #T_a025d_row6_col0, #T_a025d_row6_col1, #T_a025d_row6_col2, #T_a025d_row6_col3, #T_a025d_row6_col4, #T_a025d_row6_col5, #T_a025d_row6_col6, #T_a025d_row6_col7, #T_a025d_row7_col0, #T_a025d_row7_col1, #T_a025d_row7_col2, #T_a025d_row7_col3, #T_a025d_row7_col4, #T_a025d_row7_col5, #T_a025d_row7_col6, #T_a025d_row7_col7, #T_a025d_row8_col0, #T_a025d_row8_col1, #T_a025d_row8_col2, #T_a025d_row8_col3, #T_a025d_row8_col4, #T_a025d_row8_col5, #T_a025d_row8_col6, #T_a025d_row8_col7, #T_a025d_row9_col0, #T_a025d_row9_col1, #T_a025d_row9_col2, #T_a025d_row9_col3, #T_a025d_row9_col4, #T_a025d_row9_col5, #T_a025d_row9_col6, #T_a025d_row9_col7, #T_a025d_row10_col0, #T_a025d_row10_col1, #T_a025d_row10_col2, #T_a025d_row10_col3, #T_a025d_row10_col4, #T_a025d_row10_col5, #T_a025d_row10_col6, #T_a025d_row10_col7, #T_a025d_row11_col0, #T_a025d_row11_col1, #T_a025d_row11_col2, #T_a025d_row11_col3, #T_a025d_row11_col4, #T_a025d_row11_col5, #T_a025d_row11_col6, #T_a025d_row11_col7, #T_a025d_row12_col0, #T_a025d_row12_col1, #T_a025d_row12_col2, #T_a025d_row12_col3, #T_a025d_row12_col4, #T_a025d_row12_col5, #T_a025d_row12_col6, #T_a025d_row12_col7, #T_a025d_row13_col0, #T_a025d_row13_col1, #T_a025d_row13_col2, #T_a025d_row13_col3, #T_a025d_row13_col4, #T_a025d_row13_col5, #T_a025d_row13_col6, #T_a025d_row13_col7, #T_a025d_row14_col0, #T_a025d_row14_col1, #T_a025d_row14_col2, #T_a025d_row14_col3, #T_a025d_row14_col4, #T_a025d_row14_col5, #T_a025d_row14_col6, #T_a025d_row14_col7 {\n",
       "  text-align: left;\n",
       "}\n",
       "#T_a025d_row0_col1, #T_a025d_row0_col2, #T_a025d_row0_col4, #T_a025d_row0_col6, #T_a025d_row0_col7, #T_a025d_row1_col3, #T_a025d_row1_col5 {\n",
       "  text-align: left;\n",
       "  background-color: yellow;\n",
       "}\n",
       "#T_a025d_row0_col8, #T_a025d_row1_col8, #T_a025d_row2_col8, #T_a025d_row3_col8, #T_a025d_row4_col8, #T_a025d_row5_col8, #T_a025d_row6_col8, #T_a025d_row7_col8, #T_a025d_row8_col8, #T_a025d_row9_col8, #T_a025d_row10_col8, #T_a025d_row11_col8, #T_a025d_row12_col8, #T_a025d_row14_col8 {\n",
       "  text-align: left;\n",
       "  background-color: lightgrey;\n",
       "}\n",
       "#T_a025d_row13_col8 {\n",
       "  text-align: left;\n",
       "  background-color: yellow;\n",
       "  background-color: lightgrey;\n",
       "}\n",
       "</style>\n",
       "<table id=\"T_a025d\">\n",
       "  <thead>\n",
       "    <tr>\n",
       "      <th class=\"blank level0\" >&nbsp;</th>\n",
       "      <th id=\"T_a025d_level0_col0\" class=\"col_heading level0 col0\" >Model</th>\n",
       "      <th id=\"T_a025d_level0_col1\" class=\"col_heading level0 col1\" >Accuracy</th>\n",
       "      <th id=\"T_a025d_level0_col2\" class=\"col_heading level0 col2\" >AUC</th>\n",
       "      <th id=\"T_a025d_level0_col3\" class=\"col_heading level0 col3\" >Recall</th>\n",
       "      <th id=\"T_a025d_level0_col4\" class=\"col_heading level0 col4\" >Prec.</th>\n",
       "      <th id=\"T_a025d_level0_col5\" class=\"col_heading level0 col5\" >F1</th>\n",
       "      <th id=\"T_a025d_level0_col6\" class=\"col_heading level0 col6\" >Kappa</th>\n",
       "      <th id=\"T_a025d_level0_col7\" class=\"col_heading level0 col7\" >MCC</th>\n",
       "      <th id=\"T_a025d_level0_col8\" class=\"col_heading level0 col8\" >TT (Sec)</th>\n",
       "    </tr>\n",
       "  </thead>\n",
       "  <tbody>\n",
       "    <tr>\n",
       "      <th id=\"T_a025d_level0_row0\" class=\"row_heading level0 row0\" >lr</th>\n",
       "      <td id=\"T_a025d_row0_col0\" class=\"data row0 col0\" >Logistic Regression</td>\n",
       "      <td id=\"T_a025d_row0_col1\" class=\"data row0 col1\" >0.5569</td>\n",
       "      <td id=\"T_a025d_row0_col2\" class=\"data row0 col2\" >0.5854</td>\n",
       "      <td id=\"T_a025d_row0_col3\" class=\"data row0 col3\" >0.5397</td>\n",
       "      <td id=\"T_a025d_row0_col4\" class=\"data row0 col4\" >0.5589</td>\n",
       "      <td id=\"T_a025d_row0_col5\" class=\"data row0 col5\" >0.5476</td>\n",
       "      <td id=\"T_a025d_row0_col6\" class=\"data row0 col6\" >0.1138</td>\n",
       "      <td id=\"T_a025d_row0_col7\" class=\"data row0 col7\" >0.1145</td>\n",
       "      <td id=\"T_a025d_row0_col8\" class=\"data row0 col8\" >0.6710</td>\n",
       "    </tr>\n",
       "    <tr>\n",
       "      <th id=\"T_a025d_level0_row1\" class=\"row_heading level0 row1\" >rf</th>\n",
       "      <td id=\"T_a025d_row1_col0\" class=\"data row1 col0\" >Random Forest Classifier</td>\n",
       "      <td id=\"T_a025d_row1_col1\" class=\"data row1 col1\" >0.5526</td>\n",
       "      <td id=\"T_a025d_row1_col2\" class=\"data row1 col2\" >0.5708</td>\n",
       "      <td id=\"T_a025d_row1_col3\" class=\"data row1 col3\" >0.5586</td>\n",
       "      <td id=\"T_a025d_row1_col4\" class=\"data row1 col4\" >0.5526</td>\n",
       "      <td id=\"T_a025d_row1_col5\" class=\"data row1 col5\" >0.5539</td>\n",
       "      <td id=\"T_a025d_row1_col6\" class=\"data row1 col6\" >0.1052</td>\n",
       "      <td id=\"T_a025d_row1_col7\" class=\"data row1 col7\" >0.1059</td>\n",
       "      <td id=\"T_a025d_row1_col8\" class=\"data row1 col8\" >0.5970</td>\n",
       "    </tr>\n",
       "    <tr>\n",
       "      <th id=\"T_a025d_level0_row2\" class=\"row_heading level0 row2\" >ridge</th>\n",
       "      <td id=\"T_a025d_row2_col0\" class=\"data row2 col0\" >Ridge Classifier</td>\n",
       "      <td id=\"T_a025d_row2_col1\" class=\"data row2 col1\" >0.5500</td>\n",
       "      <td id=\"T_a025d_row2_col2\" class=\"data row2 col2\" >0.0000</td>\n",
       "      <td id=\"T_a025d_row2_col3\" class=\"data row2 col3\" >0.5414</td>\n",
       "      <td id=\"T_a025d_row2_col4\" class=\"data row2 col4\" >0.5501</td>\n",
       "      <td id=\"T_a025d_row2_col5\" class=\"data row2 col5\" >0.5444</td>\n",
       "      <td id=\"T_a025d_row2_col6\" class=\"data row2 col6\" >0.1000</td>\n",
       "      <td id=\"T_a025d_row2_col7\" class=\"data row2 col7\" >0.1005</td>\n",
       "      <td id=\"T_a025d_row2_col8\" class=\"data row2 col8\" >0.4000</td>\n",
       "    </tr>\n",
       "    <tr>\n",
       "      <th id=\"T_a025d_level0_row3\" class=\"row_heading level0 row3\" >lda</th>\n",
       "      <td id=\"T_a025d_row3_col0\" class=\"data row3 col0\" >Linear Discriminant Analysis</td>\n",
       "      <td id=\"T_a025d_row3_col1\" class=\"data row3 col1\" >0.5431</td>\n",
       "      <td id=\"T_a025d_row3_col2\" class=\"data row3 col2\" >0.5439</td>\n",
       "      <td id=\"T_a025d_row3_col3\" class=\"data row3 col3\" >0.4948</td>\n",
       "      <td id=\"T_a025d_row3_col4\" class=\"data row3 col4\" >0.5486</td>\n",
       "      <td id=\"T_a025d_row3_col5\" class=\"data row3 col5\" >0.5178</td>\n",
       "      <td id=\"T_a025d_row3_col6\" class=\"data row3 col6\" >0.0862</td>\n",
       "      <td id=\"T_a025d_row3_col7\" class=\"data row3 col7\" >0.0871</td>\n",
       "      <td id=\"T_a025d_row3_col8\" class=\"data row3 col8\" >2.5430</td>\n",
       "    </tr>\n",
       "    <tr>\n",
       "      <th id=\"T_a025d_level0_row4\" class=\"row_heading level0 row4\" >svm</th>\n",
       "      <td id=\"T_a025d_row4_col0\" class=\"data row4 col0\" >SVM - Linear Kernel</td>\n",
       "      <td id=\"T_a025d_row4_col1\" class=\"data row4 col1\" >0.5353</td>\n",
       "      <td id=\"T_a025d_row4_col2\" class=\"data row4 col2\" >0.0000</td>\n",
       "      <td id=\"T_a025d_row4_col3\" class=\"data row4 col3\" >0.4672</td>\n",
       "      <td id=\"T_a025d_row4_col4\" class=\"data row4 col4\" >0.5479</td>\n",
       "      <td id=\"T_a025d_row4_col5\" class=\"data row4 col5\" >0.4942</td>\n",
       "      <td id=\"T_a025d_row4_col6\" class=\"data row4 col6\" >0.0707</td>\n",
       "      <td id=\"T_a025d_row4_col7\" class=\"data row4 col7\" >0.0734</td>\n",
       "      <td id=\"T_a025d_row4_col8\" class=\"data row4 col8\" >0.4810</td>\n",
       "    </tr>\n",
       "    <tr>\n",
       "      <th id=\"T_a025d_level0_row5\" class=\"row_heading level0 row5\" >lightgbm</th>\n",
       "      <td id=\"T_a025d_row5_col0\" class=\"data row5 col0\" >Light Gradient Boosting Machine</td>\n",
       "      <td id=\"T_a025d_row5_col1\" class=\"data row5 col1\" >0.5353</td>\n",
       "      <td id=\"T_a025d_row5_col2\" class=\"data row5 col2\" >0.5596</td>\n",
       "      <td id=\"T_a025d_row5_col3\" class=\"data row5 col3\" >0.5310</td>\n",
       "      <td id=\"T_a025d_row5_col4\" class=\"data row5 col4\" >0.5334</td>\n",
       "      <td id=\"T_a025d_row5_col5\" class=\"data row5 col5\" >0.5316</td>\n",
       "      <td id=\"T_a025d_row5_col6\" class=\"data row5 col6\" >0.0707</td>\n",
       "      <td id=\"T_a025d_row5_col7\" class=\"data row5 col7\" >0.0707</td>\n",
       "      <td id=\"T_a025d_row5_col8\" class=\"data row5 col8\" >0.4960</td>\n",
       "    </tr>\n",
       "    <tr>\n",
       "      <th id=\"T_a025d_level0_row6\" class=\"row_heading level0 row6\" >et</th>\n",
       "      <td id=\"T_a025d_row6_col0\" class=\"data row6 col0\" >Extra Trees Classifier</td>\n",
       "      <td id=\"T_a025d_row6_col1\" class=\"data row6 col1\" >0.5345</td>\n",
       "      <td id=\"T_a025d_row6_col2\" class=\"data row6 col2\" >0.5666</td>\n",
       "      <td id=\"T_a025d_row6_col3\" class=\"data row6 col3\" >0.5517</td>\n",
       "      <td id=\"T_a025d_row6_col4\" class=\"data row6 col4\" >0.5328</td>\n",
       "      <td id=\"T_a025d_row6_col5\" class=\"data row6 col5\" >0.5412</td>\n",
       "      <td id=\"T_a025d_row6_col6\" class=\"data row6 col6\" >0.0690</td>\n",
       "      <td id=\"T_a025d_row6_col7\" class=\"data row6 col7\" >0.0695</td>\n",
       "      <td id=\"T_a025d_row6_col8\" class=\"data row6 col8\" >0.8780</td>\n",
       "    </tr>\n",
       "    <tr>\n",
       "      <th id=\"T_a025d_level0_row7\" class=\"row_heading level0 row7\" >dt</th>\n",
       "      <td id=\"T_a025d_row7_col0\" class=\"data row7 col0\" >Decision Tree Classifier</td>\n",
       "      <td id=\"T_a025d_row7_col1\" class=\"data row7 col1\" >0.5319</td>\n",
       "      <td id=\"T_a025d_row7_col2\" class=\"data row7 col2\" >0.5319</td>\n",
       "      <td id=\"T_a025d_row7_col3\" class=\"data row7 col3\" >0.5379</td>\n",
       "      <td id=\"T_a025d_row7_col4\" class=\"data row7 col4\" >0.5340</td>\n",
       "      <td id=\"T_a025d_row7_col5\" class=\"data row7 col5\" >0.5350</td>\n",
       "      <td id=\"T_a025d_row7_col6\" class=\"data row7 col6\" >0.0638</td>\n",
       "      <td id=\"T_a025d_row7_col7\" class=\"data row7 col7\" >0.0635</td>\n",
       "      <td id=\"T_a025d_row7_col8\" class=\"data row7 col8\" >0.4690</td>\n",
       "    </tr>\n",
       "    <tr>\n",
       "      <th id=\"T_a025d_level0_row8\" class=\"row_heading level0 row8\" >xgboost</th>\n",
       "      <td id=\"T_a025d_row8_col0\" class=\"data row8 col0\" >Extreme Gradient Boosting</td>\n",
       "      <td id=\"T_a025d_row8_col1\" class=\"data row8 col1\" >0.5259</td>\n",
       "      <td id=\"T_a025d_row8_col2\" class=\"data row8 col2\" >0.5290</td>\n",
       "      <td id=\"T_a025d_row8_col3\" class=\"data row8 col3\" >0.5345</td>\n",
       "      <td id=\"T_a025d_row8_col4\" class=\"data row8 col4\" >0.5232</td>\n",
       "      <td id=\"T_a025d_row8_col5\" class=\"data row8 col5\" >0.5267</td>\n",
       "      <td id=\"T_a025d_row8_col6\" class=\"data row8 col6\" >0.0517</td>\n",
       "      <td id=\"T_a025d_row8_col7\" class=\"data row8 col7\" >0.0522</td>\n",
       "      <td id=\"T_a025d_row8_col8\" class=\"data row8 col8\" >16.8900</td>\n",
       "    </tr>\n",
       "    <tr>\n",
       "      <th id=\"T_a025d_level0_row9\" class=\"row_heading level0 row9\" >nb</th>\n",
       "      <td id=\"T_a025d_row9_col0\" class=\"data row9 col0\" >Naive Bayes</td>\n",
       "      <td id=\"T_a025d_row9_col1\" class=\"data row9 col1\" >0.5241</td>\n",
       "      <td id=\"T_a025d_row9_col2\" class=\"data row9 col2\" >0.5239</td>\n",
       "      <td id=\"T_a025d_row9_col3\" class=\"data row9 col3\" >0.5293</td>\n",
       "      <td id=\"T_a025d_row9_col4\" class=\"data row9 col4\" >0.5258</td>\n",
       "      <td id=\"T_a025d_row9_col5\" class=\"data row9 col5\" >0.5260</td>\n",
       "      <td id=\"T_a025d_row9_col6\" class=\"data row9 col6\" >0.0483</td>\n",
       "      <td id=\"T_a025d_row9_col7\" class=\"data row9 col7\" >0.0485</td>\n",
       "      <td id=\"T_a025d_row9_col8\" class=\"data row9 col8\" >0.4090</td>\n",
       "    </tr>\n",
       "    <tr>\n",
       "      <th id=\"T_a025d_level0_row10\" class=\"row_heading level0 row10\" >knn</th>\n",
       "      <td id=\"T_a025d_row10_col0\" class=\"data row10 col0\" >K Neighbors Classifier</td>\n",
       "      <td id=\"T_a025d_row10_col1\" class=\"data row10 col1\" >0.5224</td>\n",
       "      <td id=\"T_a025d_row10_col2\" class=\"data row10 col2\" >0.5383</td>\n",
       "      <td id=\"T_a025d_row10_col3\" class=\"data row10 col3\" >0.5397</td>\n",
       "      <td id=\"T_a025d_row10_col4\" class=\"data row10 col4\" >0.5203</td>\n",
       "      <td id=\"T_a025d_row10_col5\" class=\"data row10 col5\" >0.5292</td>\n",
       "      <td id=\"T_a025d_row10_col6\" class=\"data row10 col6\" >0.0448</td>\n",
       "      <td id=\"T_a025d_row10_col7\" class=\"data row10 col7\" >0.0449</td>\n",
       "      <td id=\"T_a025d_row10_col8\" class=\"data row10 col8\" >0.4820</td>\n",
       "    </tr>\n",
       "    <tr>\n",
       "      <th id=\"T_a025d_level0_row11\" class=\"row_heading level0 row11\" >ada</th>\n",
       "      <td id=\"T_a025d_row11_col0\" class=\"data row11 col0\" >Ada Boost Classifier</td>\n",
       "      <td id=\"T_a025d_row11_col1\" class=\"data row11 col1\" >0.5224</td>\n",
       "      <td id=\"T_a025d_row11_col2\" class=\"data row11 col2\" >0.5147</td>\n",
       "      <td id=\"T_a025d_row11_col3\" class=\"data row11 col3\" >0.4966</td>\n",
       "      <td id=\"T_a025d_row11_col4\" class=\"data row11 col4\" >0.5219</td>\n",
       "      <td id=\"T_a025d_row11_col5\" class=\"data row11 col5\" >0.5061</td>\n",
       "      <td id=\"T_a025d_row11_col6\" class=\"data row11 col6\" >0.0448</td>\n",
       "      <td id=\"T_a025d_row11_col7\" class=\"data row11 col7\" >0.0452</td>\n",
       "      <td id=\"T_a025d_row11_col8\" class=\"data row11 col8\" >0.8190</td>\n",
       "    </tr>\n",
       "    <tr>\n",
       "      <th id=\"T_a025d_level0_row12\" class=\"row_heading level0 row12\" >gbc</th>\n",
       "      <td id=\"T_a025d_row12_col0\" class=\"data row12 col0\" >Gradient Boosting Classifier</td>\n",
       "      <td id=\"T_a025d_row12_col1\" class=\"data row12 col1\" >0.5207</td>\n",
       "      <td id=\"T_a025d_row12_col2\" class=\"data row12 col2\" >0.5239</td>\n",
       "      <td id=\"T_a025d_row12_col3\" class=\"data row12 col3\" >0.4931</td>\n",
       "      <td id=\"T_a025d_row12_col4\" class=\"data row12 col4\" >0.5236</td>\n",
       "      <td id=\"T_a025d_row12_col5\" class=\"data row12 col5\" >0.5062</td>\n",
       "      <td id=\"T_a025d_row12_col6\" class=\"data row12 col6\" >0.0414</td>\n",
       "      <td id=\"T_a025d_row12_col7\" class=\"data row12 col7\" >0.0421</td>\n",
       "      <td id=\"T_a025d_row12_col8\" class=\"data row12 col8\" >2.4410</td>\n",
       "    </tr>\n",
       "    <tr>\n",
       "      <th id=\"T_a025d_level0_row13\" class=\"row_heading level0 row13\" >dummy</th>\n",
       "      <td id=\"T_a025d_row13_col0\" class=\"data row13 col0\" >Dummy Classifier</td>\n",
       "      <td id=\"T_a025d_row13_col1\" class=\"data row13 col1\" >0.5000</td>\n",
       "      <td id=\"T_a025d_row13_col2\" class=\"data row13 col2\" >0.5000</td>\n",
       "      <td id=\"T_a025d_row13_col3\" class=\"data row13 col3\" >0.0000</td>\n",
       "      <td id=\"T_a025d_row13_col4\" class=\"data row13 col4\" >0.0000</td>\n",
       "      <td id=\"T_a025d_row13_col5\" class=\"data row13 col5\" >0.0000</td>\n",
       "      <td id=\"T_a025d_row13_col6\" class=\"data row13 col6\" >0.0000</td>\n",
       "      <td id=\"T_a025d_row13_col7\" class=\"data row13 col7\" >0.0000</td>\n",
       "      <td id=\"T_a025d_row13_col8\" class=\"data row13 col8\" >0.3140</td>\n",
       "    </tr>\n",
       "    <tr>\n",
       "      <th id=\"T_a025d_level0_row14\" class=\"row_heading level0 row14\" >qda</th>\n",
       "      <td id=\"T_a025d_row14_col0\" class=\"data row14 col0\" >Quadratic Discriminant Analysis</td>\n",
       "      <td id=\"T_a025d_row14_col1\" class=\"data row14 col1\" >0.4897</td>\n",
       "      <td id=\"T_a025d_row14_col2\" class=\"data row14 col2\" >0.4897</td>\n",
       "      <td id=\"T_a025d_row14_col3\" class=\"data row14 col3\" >0.5569</td>\n",
       "      <td id=\"T_a025d_row14_col4\" class=\"data row14 col4\" >0.4923</td>\n",
       "      <td id=\"T_a025d_row14_col5\" class=\"data row14 col5\" >0.5191</td>\n",
       "      <td id=\"T_a025d_row14_col6\" class=\"data row14 col6\" >-0.0207</td>\n",
       "      <td id=\"T_a025d_row14_col7\" class=\"data row14 col7\" >-0.0216</td>\n",
       "      <td id=\"T_a025d_row14_col8\" class=\"data row14 col8\" >1.5340</td>\n",
       "    </tr>\n",
       "  </tbody>\n",
       "</table>\n"
      ],
      "text/plain": [
       "<pandas.io.formats.style.Styler at 0x2a446bb20>"
      ]
     },
     "metadata": {},
     "output_type": "display_data"
    },
    {
     "data": {
      "text/html": [],
      "text/plain": [
       "<IPython.core.display.HTML object>"
      ]
     },
     "metadata": {},
     "output_type": "display_data"
    },
    {
     "data": {
      "text/html": [],
      "text/plain": [
       "<IPython.core.display.HTML object>"
      ]
     },
     "metadata": {},
     "output_type": "display_data"
    },
    {
     "data": {
      "text/html": [
       "<style type=\"text/css\">\n",
       "#T_cc72f_row10_col0, #T_cc72f_row10_col1, #T_cc72f_row10_col2, #T_cc72f_row10_col3, #T_cc72f_row10_col4, #T_cc72f_row10_col5, #T_cc72f_row10_col6 {\n",
       "  background: yellow;\n",
       "}\n",
       "</style>\n",
       "<table id=\"T_cc72f\">\n",
       "  <thead>\n",
       "    <tr>\n",
       "      <th class=\"blank level0\" >&nbsp;</th>\n",
       "      <th id=\"T_cc72f_level0_col0\" class=\"col_heading level0 col0\" >Accuracy</th>\n",
       "      <th id=\"T_cc72f_level0_col1\" class=\"col_heading level0 col1\" >AUC</th>\n",
       "      <th id=\"T_cc72f_level0_col2\" class=\"col_heading level0 col2\" >Recall</th>\n",
       "      <th id=\"T_cc72f_level0_col3\" class=\"col_heading level0 col3\" >Prec.</th>\n",
       "      <th id=\"T_cc72f_level0_col4\" class=\"col_heading level0 col4\" >F1</th>\n",
       "      <th id=\"T_cc72f_level0_col5\" class=\"col_heading level0 col5\" >Kappa</th>\n",
       "      <th id=\"T_cc72f_level0_col6\" class=\"col_heading level0 col6\" >MCC</th>\n",
       "    </tr>\n",
       "    <tr>\n",
       "      <th class=\"index_name level0\" >Fold</th>\n",
       "      <th class=\"blank col0\" >&nbsp;</th>\n",
       "      <th class=\"blank col1\" >&nbsp;</th>\n",
       "      <th class=\"blank col2\" >&nbsp;</th>\n",
       "      <th class=\"blank col3\" >&nbsp;</th>\n",
       "      <th class=\"blank col4\" >&nbsp;</th>\n",
       "      <th class=\"blank col5\" >&nbsp;</th>\n",
       "      <th class=\"blank col6\" >&nbsp;</th>\n",
       "    </tr>\n",
       "  </thead>\n",
       "  <tbody>\n",
       "    <tr>\n",
       "      <th id=\"T_cc72f_level0_row0\" class=\"row_heading level0 row0\" >0</th>\n",
       "      <td id=\"T_cc72f_row0_col0\" class=\"data row0 col0\" >0.5172</td>\n",
       "      <td id=\"T_cc72f_row0_col1\" class=\"data row0 col1\" >0.5835</td>\n",
       "      <td id=\"T_cc72f_row0_col2\" class=\"data row0 col2\" >0.5000</td>\n",
       "      <td id=\"T_cc72f_row0_col3\" class=\"data row0 col3\" >0.5179</td>\n",
       "      <td id=\"T_cc72f_row0_col4\" class=\"data row0 col4\" >0.5088</td>\n",
       "      <td id=\"T_cc72f_row0_col5\" class=\"data row0 col5\" >0.0345</td>\n",
       "      <td id=\"T_cc72f_row0_col6\" class=\"data row0 col6\" >0.0345</td>\n",
       "    </tr>\n",
       "    <tr>\n",
       "      <th id=\"T_cc72f_level0_row1\" class=\"row_heading level0 row1\" >1</th>\n",
       "      <td id=\"T_cc72f_row1_col0\" class=\"data row1 col0\" >0.5690</td>\n",
       "      <td id=\"T_cc72f_row1_col1\" class=\"data row1 col1\" >0.6130</td>\n",
       "      <td id=\"T_cc72f_row1_col2\" class=\"data row1 col2\" >0.5517</td>\n",
       "      <td id=\"T_cc72f_row1_col3\" class=\"data row1 col3\" >0.5714</td>\n",
       "      <td id=\"T_cc72f_row1_col4\" class=\"data row1 col4\" >0.5614</td>\n",
       "      <td id=\"T_cc72f_row1_col5\" class=\"data row1 col5\" >0.1379</td>\n",
       "      <td id=\"T_cc72f_row1_col6\" class=\"data row1 col6\" >0.1380</td>\n",
       "    </tr>\n",
       "    <tr>\n",
       "      <th id=\"T_cc72f_level0_row2\" class=\"row_heading level0 row2\" >2</th>\n",
       "      <td id=\"T_cc72f_row2_col0\" class=\"data row2 col0\" >0.5862</td>\n",
       "      <td id=\"T_cc72f_row2_col1\" class=\"data row2 col1\" >0.5785</td>\n",
       "      <td id=\"T_cc72f_row2_col2\" class=\"data row2 col2\" >0.6552</td>\n",
       "      <td id=\"T_cc72f_row2_col3\" class=\"data row2 col3\" >0.5758</td>\n",
       "      <td id=\"T_cc72f_row2_col4\" class=\"data row2 col4\" >0.6129</td>\n",
       "      <td id=\"T_cc72f_row2_col5\" class=\"data row2 col5\" >0.1724</td>\n",
       "      <td id=\"T_cc72f_row2_col6\" class=\"data row2 col6\" >0.1741</td>\n",
       "    </tr>\n",
       "    <tr>\n",
       "      <th id=\"T_cc72f_level0_row3\" class=\"row_heading level0 row3\" >3</th>\n",
       "      <td id=\"T_cc72f_row3_col0\" class=\"data row3 col0\" >0.5431</td>\n",
       "      <td id=\"T_cc72f_row3_col1\" class=\"data row3 col1\" >0.6180</td>\n",
       "      <td id=\"T_cc72f_row3_col2\" class=\"data row3 col2\" >0.5690</td>\n",
       "      <td id=\"T_cc72f_row3_col3\" class=\"data row3 col3\" >0.5410</td>\n",
       "      <td id=\"T_cc72f_row3_col4\" class=\"data row3 col4\" >0.5546</td>\n",
       "      <td id=\"T_cc72f_row3_col5\" class=\"data row3 col5\" >0.0862</td>\n",
       "      <td id=\"T_cc72f_row3_col6\" class=\"data row3 col6\" >0.0863</td>\n",
       "    </tr>\n",
       "    <tr>\n",
       "      <th id=\"T_cc72f_level0_row4\" class=\"row_heading level0 row4\" >4</th>\n",
       "      <td id=\"T_cc72f_row4_col0\" class=\"data row4 col0\" >0.5862</td>\n",
       "      <td id=\"T_cc72f_row4_col1\" class=\"data row4 col1\" >0.5886</td>\n",
       "      <td id=\"T_cc72f_row4_col2\" class=\"data row4 col2\" >0.5862</td>\n",
       "      <td id=\"T_cc72f_row4_col3\" class=\"data row4 col3\" >0.5862</td>\n",
       "      <td id=\"T_cc72f_row4_col4\" class=\"data row4 col4\" >0.5862</td>\n",
       "      <td id=\"T_cc72f_row4_col5\" class=\"data row4 col5\" >0.1724</td>\n",
       "      <td id=\"T_cc72f_row4_col6\" class=\"data row4 col6\" >0.1724</td>\n",
       "    </tr>\n",
       "    <tr>\n",
       "      <th id=\"T_cc72f_level0_row5\" class=\"row_heading level0 row5\" >5</th>\n",
       "      <td id=\"T_cc72f_row5_col0\" class=\"data row5 col0\" >0.5948</td>\n",
       "      <td id=\"T_cc72f_row5_col1\" class=\"data row5 col1\" >0.6605</td>\n",
       "      <td id=\"T_cc72f_row5_col2\" class=\"data row5 col2\" >0.6379</td>\n",
       "      <td id=\"T_cc72f_row5_col3\" class=\"data row5 col3\" >0.5873</td>\n",
       "      <td id=\"T_cc72f_row5_col4\" class=\"data row5 col4\" >0.6116</td>\n",
       "      <td id=\"T_cc72f_row5_col5\" class=\"data row5 col5\" >0.1897</td>\n",
       "      <td id=\"T_cc72f_row5_col6\" class=\"data row5 col6\" >0.1904</td>\n",
       "    </tr>\n",
       "    <tr>\n",
       "      <th id=\"T_cc72f_level0_row6\" class=\"row_heading level0 row6\" >6</th>\n",
       "      <td id=\"T_cc72f_row6_col0\" class=\"data row6 col0\" >0.5431</td>\n",
       "      <td id=\"T_cc72f_row6_col1\" class=\"data row6 col1\" >0.5273</td>\n",
       "      <td id=\"T_cc72f_row6_col2\" class=\"data row6 col2\" >0.4655</td>\n",
       "      <td id=\"T_cc72f_row6_col3\" class=\"data row6 col3\" >0.5510</td>\n",
       "      <td id=\"T_cc72f_row6_col4\" class=\"data row6 col4\" >0.5047</td>\n",
       "      <td id=\"T_cc72f_row6_col5\" class=\"data row6 col5\" >0.0862</td>\n",
       "      <td id=\"T_cc72f_row6_col6\" class=\"data row6 col6\" >0.0873</td>\n",
       "    </tr>\n",
       "    <tr>\n",
       "      <th id=\"T_cc72f_level0_row7\" class=\"row_heading level0 row7\" >7</th>\n",
       "      <td id=\"T_cc72f_row7_col0\" class=\"data row7 col0\" >0.5259</td>\n",
       "      <td id=\"T_cc72f_row7_col1\" class=\"data row7 col1\" >0.5606</td>\n",
       "      <td id=\"T_cc72f_row7_col2\" class=\"data row7 col2\" >0.5172</td>\n",
       "      <td id=\"T_cc72f_row7_col3\" class=\"data row7 col3\" >0.5263</td>\n",
       "      <td id=\"T_cc72f_row7_col4\" class=\"data row7 col4\" >0.5217</td>\n",
       "      <td id=\"T_cc72f_row7_col5\" class=\"data row7 col5\" >0.0517</td>\n",
       "      <td id=\"T_cc72f_row7_col6\" class=\"data row7 col6\" >0.0517</td>\n",
       "    </tr>\n",
       "    <tr>\n",
       "      <th id=\"T_cc72f_level0_row8\" class=\"row_heading level0 row8\" >8</th>\n",
       "      <td id=\"T_cc72f_row8_col0\" class=\"data row8 col0\" >0.5086</td>\n",
       "      <td id=\"T_cc72f_row8_col1\" class=\"data row8 col1\" >0.4816</td>\n",
       "      <td id=\"T_cc72f_row8_col2\" class=\"data row8 col2\" >0.4310</td>\n",
       "      <td id=\"T_cc72f_row8_col3\" class=\"data row8 col3\" >0.5102</td>\n",
       "      <td id=\"T_cc72f_row8_col4\" class=\"data row8 col4\" >0.4673</td>\n",
       "      <td id=\"T_cc72f_row8_col5\" class=\"data row8 col5\" >0.0172</td>\n",
       "      <td id=\"T_cc72f_row8_col6\" class=\"data row8 col6\" >0.0175</td>\n",
       "    </tr>\n",
       "    <tr>\n",
       "      <th id=\"T_cc72f_level0_row9\" class=\"row_heading level0 row9\" >9</th>\n",
       "      <td id=\"T_cc72f_row9_col0\" class=\"data row9 col0\" >0.5948</td>\n",
       "      <td id=\"T_cc72f_row9_col1\" class=\"data row9 col1\" >0.6278</td>\n",
       "      <td id=\"T_cc72f_row9_col2\" class=\"data row9 col2\" >0.5000</td>\n",
       "      <td id=\"T_cc72f_row9_col3\" class=\"data row9 col3\" >0.6170</td>\n",
       "      <td id=\"T_cc72f_row9_col4\" class=\"data row9 col4\" >0.5524</td>\n",
       "      <td id=\"T_cc72f_row9_col5\" class=\"data row9 col5\" >0.1897</td>\n",
       "      <td id=\"T_cc72f_row9_col6\" class=\"data row9 col6\" >0.1932</td>\n",
       "    </tr>\n",
       "    <tr>\n",
       "      <th id=\"T_cc72f_level0_row10\" class=\"row_heading level0 row10\" >Mean</th>\n",
       "      <td id=\"T_cc72f_row10_col0\" class=\"data row10 col0\" >0.5569</td>\n",
       "      <td id=\"T_cc72f_row10_col1\" class=\"data row10 col1\" >0.5839</td>\n",
       "      <td id=\"T_cc72f_row10_col2\" class=\"data row10 col2\" >0.5414</td>\n",
       "      <td id=\"T_cc72f_row10_col3\" class=\"data row10 col3\" >0.5584</td>\n",
       "      <td id=\"T_cc72f_row10_col4\" class=\"data row10 col4\" >0.5482</td>\n",
       "      <td id=\"T_cc72f_row10_col5\" class=\"data row10 col5\" >0.1138</td>\n",
       "      <td id=\"T_cc72f_row10_col6\" class=\"data row10 col6\" >0.1145</td>\n",
       "    </tr>\n",
       "    <tr>\n",
       "      <th id=\"T_cc72f_level0_row11\" class=\"row_heading level0 row11\" >Std</th>\n",
       "      <td id=\"T_cc72f_row11_col0\" class=\"data row11 col0\" >0.0316</td>\n",
       "      <td id=\"T_cc72f_row11_col1\" class=\"data row11 col1\" >0.0491</td>\n",
       "      <td id=\"T_cc72f_row11_col2\" class=\"data row11 col2\" >0.0686</td>\n",
       "      <td id=\"T_cc72f_row11_col3\" class=\"data row11 col3\" >0.0330</td>\n",
       "      <td id=\"T_cc72f_row11_col4\" class=\"data row11 col4\" >0.0454</td>\n",
       "      <td id=\"T_cc72f_row11_col5\" class=\"data row11 col5\" >0.0632</td>\n",
       "      <td id=\"T_cc72f_row11_col6\" class=\"data row11 col6\" >0.0638</td>\n",
       "    </tr>\n",
       "  </tbody>\n",
       "</table>\n"
      ],
      "text/plain": [
       "<pandas.io.formats.style.Styler at 0x2a446bc10>"
      ]
     },
     "metadata": {},
     "output_type": "display_data"
    },
    {
     "data": {
      "text/html": [],
      "text/plain": [
       "<IPython.core.display.HTML object>"
      ]
     },
     "metadata": {},
     "output_type": "display_data"
    },
    {
     "name": "stdout",
     "output_type": "stream",
     "text": [
      "Fitting 10 folds for each of 10 candidates, totalling 100 fits\n",
      "Original model was better than the tuned model, hence it will be returned. NOTE: The display metrics are for the tuned model (not the original one).\n"
     ]
    },
    {
     "data": {
      "application/vnd.jupyter.widget-view+json": {
       "model_id": "9dfb47cc945d4876829af379f04d75b7",
       "version_major": 2,
       "version_minor": 0
      },
      "text/plain": [
       "interactive(children=(ToggleButtons(description='Plot Type:', icons=('',), options=(('Pipeline Plot', 'pipelin…"
      ]
     },
     "metadata": {},
     "output_type": "display_data"
    }
   ],
   "source": [
    "# 모델 학습 및 비교를 수행합니다.\n",
    "best_model = compare_models(sort='Accuracy', fold=10)\n",
    "\n",
    "# 모델의 하이퍼파라미터 튜닝을 수행합니다.\n",
    "tuned_model = tune_model(best_model, fold=10)\n",
    "\n",
    "# 튜닝된 모델의 성능을 평가합니다.\n",
    "evaluate_model(tuned_model)"
   ]
  },
  {
   "attachments": {},
   "cell_type": "markdown",
   "id": "4ed2b873",
   "metadata": {},
   "source": [
    "ML 모델학습( Logistic Regression )"
   ]
  },
  {
   "cell_type": "code",
   "execution_count": 66,
   "id": "cc1f7096",
   "metadata": {},
   "outputs": [
    {
     "name": "stdout",
     "output_type": "stream",
     "text": [
      "Epoch 1: Accuracy = 0.5783\n",
      "Epoch 2: Accuracy = 0.5422\n",
      "Epoch 3: Accuracy = 0.6145\n",
      "Epoch 4: Accuracy = 0.5241\n",
      "Epoch 5: Accuracy = 0.4699\n",
      "Epoch 6: Accuracy = 0.5361\n",
      "Epoch 7: Accuracy = 0.5060\n",
      "Epoch 8: Accuracy = 0.5602\n",
      "Epoch 9: Accuracy = 0.5030\n",
      "Epoch 10: Accuracy = 0.5091\n"
     ]
    }
   ],
   "source": [
    "from sklearn.linear_model import LogisticRegression\n",
    "from sklearn.model_selection import cross_val_score\n",
    "\n",
    "# Logistic Regression 모델 초기화\n",
    "model = LogisticRegression()\n",
    "\n",
    "# k-fold 교차 검증 및 하이퍼파라미터 조정\n",
    "k = 10\n",
    "scores = cross_val_score(model, X_train_dense, y_train_resampled, cv=k, scoring='accuracy')\n",
    "\n",
    "# 각 애포크의 정확도 출력\n",
    "for epoch, score in enumerate(scores, 1):\n",
    "    print(f\"Epoch {epoch}: Accuracy = {score:.4f}\")\n",
    "\n",
    "# 전체 데이터로 모델 학습\n",
    "model.fit(X_train_dense, y_train_resampled)\n",
    "\n",
    "# 테스트 데이터셋으로 추론 수행\n",
    "predictions = model.predict(X_test_dense)"
   ]
  },
  {
   "attachments": {},
   "cell_type": "markdown",
   "id": "2eb71ea2",
   "metadata": {},
   "source": [
    "# Inference & Submission"
   ]
  },
  {
   "attachments": {},
   "cell_type": "markdown",
   "id": "dac71485",
   "metadata": {},
   "source": []
  },
  {
   "cell_type": "code",
   "execution_count": 67,
   "id": "81b3c788",
   "metadata": {},
   "outputs": [
    {
     "data": {
      "text/plain": [
       "1240"
      ]
     },
     "execution_count": 67,
     "metadata": {},
     "output_type": "execute_result"
    }
   ],
   "source": [
    "submit = pd.read_csv('open/sample_submission.csv')\n",
    "len(predictions)"
   ]
  },
  {
   "cell_type": "code",
   "execution_count": 68,
   "id": "328e89f8",
   "metadata": {},
   "outputs": [
    {
     "name": "stdout",
     "output_type": "stream",
     "text": [
      "Done\n"
     ]
    }
   ],
   "source": [
    "submit['first_party_winner'] = predictions\n",
    "submit.to_csv('submision/submission0.csv', index=False)\n",
    "print('Done')"
   ]
  },
  {
   "cell_type": "code",
   "execution_count": null,
   "id": "9b86f81c",
   "metadata": {},
   "outputs": [],
   "source": []
  }
 ],
 "metadata": {
  "kernelspec": {
   "display_name": "PyTorch 1.14 (NGC 22.12/Python 3.8) on Backend.AI",
   "language": "python",
   "name": "python3"
  },
  "language_info": {
   "codemirror_mode": {
    "name": "ipython",
    "version": 3
   },
   "file_extension": ".py",
   "mimetype": "text/x-python",
   "name": "python",
   "nbconvert_exporter": "python",
   "pygments_lexer": "ipython3",
   "version": "3.10.11"
  }
 },
 "nbformat": 4,
 "nbformat_minor": 5
}
